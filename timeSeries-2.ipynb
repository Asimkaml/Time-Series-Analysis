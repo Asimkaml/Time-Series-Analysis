{
 "cells": [
  {
   "cell_type": "code",
   "execution_count": 2,
   "metadata": {},
   "outputs": [],
   "source": [
    "import numpy as np\n",
    "import pandas as pd\n",
    "import datetime as datetime\n",
    "import matplotlib.pyplot as plt"
   ]
  },
  {
   "cell_type": "code",
   "execution_count": 3,
   "metadata": {},
   "outputs": [
    {
     "name": "stdout",
     "output_type": "stream",
     "text": [
      "<class 'pandas.core.frame.DataFrame'>\n",
      "DatetimeIndex: 4477 entries, 2001-01-01 to 2022-11-11\n",
      "Data columns (total 5 columns):\n",
      " #   Column  Non-Null Count  Dtype  \n",
      "---  ------  --------------  -----  \n",
      " 0   Open    4477 non-null   float64\n",
      " 1   High    4477 non-null   float64\n",
      " 2   Low     4477 non-null   float64\n",
      " 3   Close   4477 non-null   float64\n",
      " 4   Volume  4477 non-null   float64\n",
      "dtypes: float64(5)\n",
      "memory usage: 209.9 KB\n"
     ]
    }
   ],
   "source": [
    "df = pd.read_csv(\"../Atlas Honda Limited.csv\", parse_dates=['Date'], index_col='Date')\n",
    "#instead of using to_datetime function we directly tell read_csv\n",
    "#index is set using index_col\n",
    "df.info()"
   ]
  },
  {
   "cell_type": "code",
   "execution_count": null,
   "metadata": {},
   "outputs": [
    {
     "data": {
      "text/html": [
       "<div>\n",
       "<style scoped>\n",
       "    .dataframe tbody tr th:only-of-type {\n",
       "        vertical-align: middle;\n",
       "    }\n",
       "\n",
       "    .dataframe tbody tr th {\n",
       "        vertical-align: top;\n",
       "    }\n",
       "\n",
       "    .dataframe thead th {\n",
       "        text-align: right;\n",
       "    }\n",
       "</style>\n",
       "<table border=\"1\" class=\"dataframe\">\n",
       "  <thead>\n",
       "    <tr style=\"text-align: right;\">\n",
       "      <th></th>\n",
       "      <th>Close</th>\n",
       "      <th>shifted</th>\n",
       "    </tr>\n",
       "    <tr>\n",
       "      <th>Date</th>\n",
       "      <th></th>\n",
       "      <th></th>\n",
       "    </tr>\n",
       "  </thead>\n",
       "  <tbody>\n",
       "    <tr>\n",
       "      <th>2001-01-01</th>\n",
       "      <td>16.5</td>\n",
       "      <td>NaN</td>\n",
       "    </tr>\n",
       "    <tr>\n",
       "      <th>2001-01-08</th>\n",
       "      <td>17.5</td>\n",
       "      <td>16.5</td>\n",
       "    </tr>\n",
       "    <tr>\n",
       "      <th>2001-01-26</th>\n",
       "      <td>17.5</td>\n",
       "      <td>17.5</td>\n",
       "    </tr>\n",
       "    <tr>\n",
       "      <th>2001-02-08</th>\n",
       "      <td>17.0</td>\n",
       "      <td>17.5</td>\n",
       "    </tr>\n",
       "    <tr>\n",
       "      <th>2001-02-20</th>\n",
       "      <td>17.0</td>\n",
       "      <td>17.0</td>\n",
       "    </tr>\n",
       "  </tbody>\n",
       "</table>\n",
       "</div>"
      ],
      "text/plain": [
       "            Close  shifted\n",
       "Date                      \n",
       "2001-01-01   16.5      NaN\n",
       "2001-01-08   17.5     16.5\n",
       "2001-01-26   17.5     17.5\n",
       "2001-02-08   17.0     17.5\n",
       "2001-02-20   17.0     17.0"
      ]
     },
     "execution_count": 10,
     "metadata": {},
     "output_type": "execute_result"
    }
   ],
   "source": [
    "#.shift() method\n",
    "#default value of periods = 1\n",
    "df['shifted'] = df.Close.shift(periods=1)\n",
    "#values have moved 1 step in future/forward\n",
    "df[['Close','shifted']].head()"
   ]
  },
  {
   "cell_type": "code",
   "execution_count": null,
   "metadata": {},
   "outputs": [
    {
     "data": {
      "text/html": [
       "<div>\n",
       "<style scoped>\n",
       "    .dataframe tbody tr th:only-of-type {\n",
       "        vertical-align: middle;\n",
       "    }\n",
       "\n",
       "    .dataframe tbody tr th {\n",
       "        vertical-align: top;\n",
       "    }\n",
       "\n",
       "    .dataframe thead th {\n",
       "        text-align: right;\n",
       "    }\n",
       "</style>\n",
       "<table border=\"1\" class=\"dataframe\">\n",
       "  <thead>\n",
       "    <tr style=\"text-align: right;\">\n",
       "      <th></th>\n",
       "      <th>shifted</th>\n",
       "      <th>Close</th>\n",
       "      <th>lagged</th>\n",
       "    </tr>\n",
       "    <tr>\n",
       "      <th>Date</th>\n",
       "      <th></th>\n",
       "      <th></th>\n",
       "      <th></th>\n",
       "    </tr>\n",
       "  </thead>\n",
       "  <tbody>\n",
       "    <tr>\n",
       "      <th>2022-11-04</th>\n",
       "      <td>339.68</td>\n",
       "      <td>340.00</td>\n",
       "      <td>329.00</td>\n",
       "    </tr>\n",
       "    <tr>\n",
       "      <th>2022-11-07</th>\n",
       "      <td>340.00</td>\n",
       "      <td>329.00</td>\n",
       "      <td>338.99</td>\n",
       "    </tr>\n",
       "    <tr>\n",
       "      <th>2022-11-08</th>\n",
       "      <td>329.00</td>\n",
       "      <td>338.99</td>\n",
       "      <td>338.99</td>\n",
       "    </tr>\n",
       "    <tr>\n",
       "      <th>2022-11-10</th>\n",
       "      <td>338.99</td>\n",
       "      <td>338.99</td>\n",
       "      <td>338.99</td>\n",
       "    </tr>\n",
       "    <tr>\n",
       "      <th>2022-11-11</th>\n",
       "      <td>338.99</td>\n",
       "      <td>338.99</td>\n",
       "      <td>NaN</td>\n",
       "    </tr>\n",
       "  </tbody>\n",
       "</table>\n",
       "</div>"
      ],
      "text/plain": [
       "            shifted   Close  lagged\n",
       "Date                               \n",
       "2022-11-04   339.68  340.00  329.00\n",
       "2022-11-07   340.00  329.00  338.99\n",
       "2022-11-08   329.00  338.99  338.99\n",
       "2022-11-10   338.99  338.99  338.99\n",
       "2022-11-11   338.99  338.99     NaN"
      ]
     },
     "execution_count": 12,
     "metadata": {},
     "output_type": "execute_result"
    }
   ],
   "source": [
    "#lagged values are 1 period into the past\n",
    "#use negative to move in past\n",
    "df['lagged'] = df.Close.shift(periods=-1)\n",
    "df[[ 'shifted','Close', 'lagged']].tail()"
   ]
  },
  {
   "cell_type": "markdown",
   "metadata": {},
   "source": [
    "#### useful to calculate financial return \n",
    "#### (rate of change from time to time)"
   ]
  },
  {
   "cell_type": "code",
   "execution_count": 20,
   "metadata": {},
   "outputs": [
    {
     "data": {
      "text/html": [
       "<div>\n",
       "<style scoped>\n",
       "    .dataframe tbody tr th:only-of-type {\n",
       "        vertical-align: middle;\n",
       "    }\n",
       "\n",
       "    .dataframe tbody tr th {\n",
       "        vertical-align: top;\n",
       "    }\n",
       "\n",
       "    .dataframe thead th {\n",
       "        text-align: right;\n",
       "    }\n",
       "</style>\n",
       "<table border=\"1\" class=\"dataframe\">\n",
       "  <thead>\n",
       "    <tr style=\"text-align: right;\">\n",
       "      <th></th>\n",
       "      <th>Close</th>\n",
       "      <th>shifted</th>\n",
       "      <th>change</th>\n",
       "    </tr>\n",
       "    <tr>\n",
       "      <th>Date</th>\n",
       "      <th></th>\n",
       "      <th></th>\n",
       "      <th></th>\n",
       "    </tr>\n",
       "  </thead>\n",
       "  <tbody>\n",
       "    <tr>\n",
       "      <th>2001-01-01</th>\n",
       "      <td>16.5</td>\n",
       "      <td>NaN</td>\n",
       "      <td>NaN</td>\n",
       "    </tr>\n",
       "    <tr>\n",
       "      <th>2001-01-08</th>\n",
       "      <td>17.5</td>\n",
       "      <td>16.5</td>\n",
       "      <td>1.060606</td>\n",
       "    </tr>\n",
       "    <tr>\n",
       "      <th>2001-01-26</th>\n",
       "      <td>17.5</td>\n",
       "      <td>17.5</td>\n",
       "      <td>1.000000</td>\n",
       "    </tr>\n",
       "    <tr>\n",
       "      <th>2001-02-08</th>\n",
       "      <td>17.0</td>\n",
       "      <td>17.5</td>\n",
       "      <td>0.971429</td>\n",
       "    </tr>\n",
       "    <tr>\n",
       "      <th>2001-02-20</th>\n",
       "      <td>17.0</td>\n",
       "      <td>17.0</td>\n",
       "      <td>1.000000</td>\n",
       "    </tr>\n",
       "  </tbody>\n",
       "</table>\n",
       "</div>"
      ],
      "text/plain": [
       "            Close  shifted    change\n",
       "Date                                \n",
       "2001-01-01   16.5      NaN       NaN\n",
       "2001-01-08   17.5     16.5  1.060606\n",
       "2001-01-26   17.5     17.5  1.000000\n",
       "2001-02-08   17.0     17.5  0.971429\n",
       "2001-02-20   17.0     17.0  1.000000"
      ]
     },
     "execution_count": 20,
     "metadata": {},
     "output_type": "execute_result"
    }
   ],
   "source": [
    "#div method  \n",
    "df['change'] = df.Close.div(df.shifted) #relative change from the last period for every price\n",
    "df[['Close','shifted', 'change']].head()"
   ]
  },
  {
   "cell_type": "markdown",
   "metadata": {},
   "source": [
    "##### calculating percentage change (subtract 1 and multiply by 100)"
   ]
  },
  {
   "cell_type": "code",
   "execution_count": 21,
   "metadata": {},
   "outputs": [
    {
     "data": {
      "text/html": [
       "<div>\n",
       "<style scoped>\n",
       "    .dataframe tbody tr th:only-of-type {\n",
       "        vertical-align: middle;\n",
       "    }\n",
       "\n",
       "    .dataframe tbody tr th {\n",
       "        vertical-align: top;\n",
       "    }\n",
       "\n",
       "    .dataframe thead th {\n",
       "        text-align: right;\n",
       "    }\n",
       "</style>\n",
       "<table border=\"1\" class=\"dataframe\">\n",
       "  <thead>\n",
       "    <tr style=\"text-align: right;\">\n",
       "      <th></th>\n",
       "      <th>Close</th>\n",
       "      <th>shifted</th>\n",
       "      <th>change</th>\n",
       "      <th>return</th>\n",
       "    </tr>\n",
       "    <tr>\n",
       "      <th>Date</th>\n",
       "      <th></th>\n",
       "      <th></th>\n",
       "      <th></th>\n",
       "      <th></th>\n",
       "    </tr>\n",
       "  </thead>\n",
       "  <tbody>\n",
       "    <tr>\n",
       "      <th>2001-01-01</th>\n",
       "      <td>16.5</td>\n",
       "      <td>NaN</td>\n",
       "      <td>NaN</td>\n",
       "      <td>NaN</td>\n",
       "    </tr>\n",
       "    <tr>\n",
       "      <th>2001-01-08</th>\n",
       "      <td>17.5</td>\n",
       "      <td>16.5</td>\n",
       "      <td>1.060606</td>\n",
       "      <td>6.060606</td>\n",
       "    </tr>\n",
       "    <tr>\n",
       "      <th>2001-01-26</th>\n",
       "      <td>17.5</td>\n",
       "      <td>17.5</td>\n",
       "      <td>1.000000</td>\n",
       "      <td>0.000000</td>\n",
       "    </tr>\n",
       "    <tr>\n",
       "      <th>2001-02-08</th>\n",
       "      <td>17.0</td>\n",
       "      <td>17.5</td>\n",
       "      <td>0.971429</td>\n",
       "      <td>-2.857143</td>\n",
       "    </tr>\n",
       "    <tr>\n",
       "      <th>2001-02-20</th>\n",
       "      <td>17.0</td>\n",
       "      <td>17.0</td>\n",
       "      <td>1.000000</td>\n",
       "      <td>0.000000</td>\n",
       "    </tr>\n",
       "  </tbody>\n",
       "</table>\n",
       "</div>"
      ],
      "text/plain": [
       "            Close  shifted    change    return\n",
       "Date                                          \n",
       "2001-01-01   16.5      NaN       NaN       NaN\n",
       "2001-01-08   17.5     16.5  1.060606  6.060606\n",
       "2001-01-26   17.5     17.5  1.000000  0.000000\n",
       "2001-02-08   17.0     17.5  0.971429 -2.857143\n",
       "2001-02-20   17.0     17.0  1.000000  0.000000"
      ]
     },
     "execution_count": 21,
     "metadata": {},
     "output_type": "execute_result"
    }
   ],
   "source": [
    "df['return'] = df.change.sub(1).mul(100)\n",
    "df[['Close', 'shifted', 'change', 'return']].head()"
   ]
  },
  {
   "cell_type": "markdown",
   "metadata": {},
   "source": [
    "##### diff method"
   ]
  },
  {
   "cell_type": "code",
   "execution_count": 22,
   "metadata": {},
   "outputs": [
    {
     "data": {
      "text/html": [
       "<div>\n",
       "<style scoped>\n",
       "    .dataframe tbody tr th:only-of-type {\n",
       "        vertical-align: middle;\n",
       "    }\n",
       "\n",
       "    .dataframe tbody tr th {\n",
       "        vertical-align: top;\n",
       "    }\n",
       "\n",
       "    .dataframe thead th {\n",
       "        text-align: right;\n",
       "    }\n",
       "</style>\n",
       "<table border=\"1\" class=\"dataframe\">\n",
       "  <thead>\n",
       "    <tr style=\"text-align: right;\">\n",
       "      <th></th>\n",
       "      <th>Close</th>\n",
       "      <th>difference</th>\n",
       "    </tr>\n",
       "    <tr>\n",
       "      <th>Date</th>\n",
       "      <th></th>\n",
       "      <th></th>\n",
       "    </tr>\n",
       "  </thead>\n",
       "  <tbody>\n",
       "    <tr>\n",
       "      <th>2001-01-01</th>\n",
       "      <td>16.5</td>\n",
       "      <td>NaN</td>\n",
       "    </tr>\n",
       "    <tr>\n",
       "      <th>2001-01-08</th>\n",
       "      <td>17.5</td>\n",
       "      <td>1.0</td>\n",
       "    </tr>\n",
       "    <tr>\n",
       "      <th>2001-01-26</th>\n",
       "      <td>17.5</td>\n",
       "      <td>0.0</td>\n",
       "    </tr>\n",
       "    <tr>\n",
       "      <th>2001-02-08</th>\n",
       "      <td>17.0</td>\n",
       "      <td>-0.5</td>\n",
       "    </tr>\n",
       "    <tr>\n",
       "      <th>2001-02-20</th>\n",
       "      <td>17.0</td>\n",
       "      <td>0.0</td>\n",
       "    </tr>\n",
       "  </tbody>\n",
       "</table>\n",
       "</div>"
      ],
      "text/plain": [
       "            Close  difference\n",
       "Date                         \n",
       "2001-01-01   16.5         NaN\n",
       "2001-01-08   17.5         1.0\n",
       "2001-01-26   17.5         0.0\n",
       "2001-02-08   17.0        -0.5\n",
       "2001-02-20   17.0         0.0"
      ]
     },
     "execution_count": 22,
     "metadata": {},
     "output_type": "execute_result"
    }
   ],
   "source": [
    "df['difference'] = df.Close.diff()\n",
    "df[['Close', 'difference']].head()"
   ]
  },
  {
   "cell_type": "markdown",
   "metadata": {},
   "source": [
    "##### calculating percentage change using .pct_change() method"
   ]
  },
  {
   "cell_type": "code",
   "execution_count": 25,
   "metadata": {},
   "outputs": [
    {
     "data": {
      "text/html": [
       "<div>\n",
       "<style scoped>\n",
       "    .dataframe tbody tr th:only-of-type {\n",
       "        vertical-align: middle;\n",
       "    }\n",
       "\n",
       "    .dataframe tbody tr th {\n",
       "        vertical-align: top;\n",
       "    }\n",
       "\n",
       "    .dataframe thead th {\n",
       "        text-align: right;\n",
       "    }\n",
       "</style>\n",
       "<table border=\"1\" class=\"dataframe\">\n",
       "  <thead>\n",
       "    <tr style=\"text-align: right;\">\n",
       "      <th></th>\n",
       "      <th>Close</th>\n",
       "      <th>return</th>\n",
       "      <th>pct_change</th>\n",
       "    </tr>\n",
       "    <tr>\n",
       "      <th>Date</th>\n",
       "      <th></th>\n",
       "      <th></th>\n",
       "      <th></th>\n",
       "    </tr>\n",
       "  </thead>\n",
       "  <tbody>\n",
       "    <tr>\n",
       "      <th>2001-01-01</th>\n",
       "      <td>16.50</td>\n",
       "      <td>NaN</td>\n",
       "      <td>NaN</td>\n",
       "    </tr>\n",
       "    <tr>\n",
       "      <th>2001-01-08</th>\n",
       "      <td>17.50</td>\n",
       "      <td>6.060606</td>\n",
       "      <td>6.060606</td>\n",
       "    </tr>\n",
       "    <tr>\n",
       "      <th>2001-01-26</th>\n",
       "      <td>17.50</td>\n",
       "      <td>0.000000</td>\n",
       "      <td>0.000000</td>\n",
       "    </tr>\n",
       "    <tr>\n",
       "      <th>2001-02-08</th>\n",
       "      <td>17.00</td>\n",
       "      <td>-2.857143</td>\n",
       "      <td>-2.857143</td>\n",
       "    </tr>\n",
       "    <tr>\n",
       "      <th>2001-02-20</th>\n",
       "      <td>17.00</td>\n",
       "      <td>0.000000</td>\n",
       "      <td>0.000000</td>\n",
       "    </tr>\n",
       "    <tr>\n",
       "      <th>...</th>\n",
       "      <td>...</td>\n",
       "      <td>...</td>\n",
       "      <td>...</td>\n",
       "    </tr>\n",
       "    <tr>\n",
       "      <th>2022-11-04</th>\n",
       "      <td>340.00</td>\n",
       "      <td>0.094206</td>\n",
       "      <td>0.094206</td>\n",
       "    </tr>\n",
       "    <tr>\n",
       "      <th>2022-11-07</th>\n",
       "      <td>329.00</td>\n",
       "      <td>-3.235294</td>\n",
       "      <td>-3.235294</td>\n",
       "    </tr>\n",
       "    <tr>\n",
       "      <th>2022-11-08</th>\n",
       "      <td>338.99</td>\n",
       "      <td>3.036474</td>\n",
       "      <td>3.036474</td>\n",
       "    </tr>\n",
       "    <tr>\n",
       "      <th>2022-11-10</th>\n",
       "      <td>338.99</td>\n",
       "      <td>0.000000</td>\n",
       "      <td>0.000000</td>\n",
       "    </tr>\n",
       "    <tr>\n",
       "      <th>2022-11-11</th>\n",
       "      <td>338.99</td>\n",
       "      <td>0.000000</td>\n",
       "      <td>0.000000</td>\n",
       "    </tr>\n",
       "  </tbody>\n",
       "</table>\n",
       "<p>4477 rows × 3 columns</p>\n",
       "</div>"
      ],
      "text/plain": [
       "             Close    return  pct_change\n",
       "Date                                    \n",
       "2001-01-01   16.50       NaN         NaN\n",
       "2001-01-08   17.50  6.060606    6.060606\n",
       "2001-01-26   17.50  0.000000    0.000000\n",
       "2001-02-08   17.00 -2.857143   -2.857143\n",
       "2001-02-20   17.00  0.000000    0.000000\n",
       "...            ...       ...         ...\n",
       "2022-11-04  340.00  0.094206    0.094206\n",
       "2022-11-07  329.00 -3.235294   -3.235294\n",
       "2022-11-08  338.99  3.036474    3.036474\n",
       "2022-11-10  338.99  0.000000    0.000000\n",
       "2022-11-11  338.99  0.000000    0.000000\n",
       "\n",
       "[4477 rows x 3 columns]"
      ]
     },
     "execution_count": 25,
     "metadata": {},
     "output_type": "execute_result"
    }
   ],
   "source": [
    "df['pct_change'] = df.Close.pct_change().mul(100)\n",
    "# multiply by 100 to get return\n",
    "df[['Close', 'return', 'pct_change']]"
   ]
  },
  {
   "cell_type": "markdown",
   "metadata": {},
   "source": [
    "#### all these methods have period to calculate for x trading days"
   ]
  },
  {
   "cell_type": "markdown",
   "metadata": {},
   "source": [
    "### Normalizing Series\n",
    "\n"
   ]
  },
  {
   "cell_type": "code",
   "execution_count": 17,
   "metadata": {},
   "outputs": [
    {
     "data": {
      "text/html": [
       "<div>\n",
       "<style scoped>\n",
       "    .dataframe tbody tr th:only-of-type {\n",
       "        vertical-align: middle;\n",
       "    }\n",
       "\n",
       "    .dataframe tbody tr th {\n",
       "        vertical-align: top;\n",
       "    }\n",
       "\n",
       "    .dataframe thead th {\n",
       "        text-align: right;\n",
       "    }\n",
       "</style>\n",
       "<table border=\"1\" class=\"dataframe\">\n",
       "  <thead>\n",
       "    <tr style=\"text-align: right;\">\n",
       "      <th></th>\n",
       "      <th>Price</th>\n",
       "    </tr>\n",
       "    <tr>\n",
       "      <th>Date</th>\n",
       "      <th></th>\n",
       "    </tr>\n",
       "  </thead>\n",
       "  <tbody>\n",
       "    <tr>\n",
       "      <th>2001-01-01</th>\n",
       "      <td>16.50</td>\n",
       "    </tr>\n",
       "    <tr>\n",
       "      <th>2001-01-08</th>\n",
       "      <td>17.50</td>\n",
       "    </tr>\n",
       "    <tr>\n",
       "      <th>2001-01-26</th>\n",
       "      <td>17.50</td>\n",
       "    </tr>\n",
       "    <tr>\n",
       "      <th>2001-02-08</th>\n",
       "      <td>17.00</td>\n",
       "    </tr>\n",
       "    <tr>\n",
       "      <th>2001-02-20</th>\n",
       "      <td>17.00</td>\n",
       "    </tr>\n",
       "    <tr>\n",
       "      <th>...</th>\n",
       "      <td>...</td>\n",
       "    </tr>\n",
       "    <tr>\n",
       "      <th>2022-11-04</th>\n",
       "      <td>340.00</td>\n",
       "    </tr>\n",
       "    <tr>\n",
       "      <th>2022-11-07</th>\n",
       "      <td>329.00</td>\n",
       "    </tr>\n",
       "    <tr>\n",
       "      <th>2022-11-08</th>\n",
       "      <td>338.99</td>\n",
       "    </tr>\n",
       "    <tr>\n",
       "      <th>2022-11-10</th>\n",
       "      <td>338.99</td>\n",
       "    </tr>\n",
       "    <tr>\n",
       "      <th>2022-11-11</th>\n",
       "      <td>338.99</td>\n",
       "    </tr>\n",
       "  </tbody>\n",
       "</table>\n",
       "<p>4477 rows × 1 columns</p>\n",
       "</div>"
      ],
      "text/plain": [
       "             Price\n",
       "Date              \n",
       "2001-01-01   16.50\n",
       "2001-01-08   17.50\n",
       "2001-01-26   17.50\n",
       "2001-02-08   17.00\n",
       "2001-02-20   17.00\n",
       "...            ...\n",
       "2022-11-04  340.00\n",
       "2022-11-07  329.00\n",
       "2022-11-08  338.99\n",
       "2022-11-10  338.99\n",
       "2022-11-11  338.99\n",
       "\n",
       "[4477 rows x 1 columns]"
      ]
     },
     "execution_count": 17,
     "metadata": {},
     "output_type": "execute_result"
    }
   ],
   "source": [
    "Honda = pd.DataFrame({'Price':df.Close}, index = df.index)\n",
    "Honda"
   ]
  },
  {
   "cell_type": "code",
   "execution_count": 18,
   "metadata": {},
   "outputs": [
    {
     "data": {
      "text/plain": [
       "np.float64(16.5)"
      ]
     },
     "execution_count": 18,
     "metadata": {},
     "output_type": "execute_result"
    }
   ],
   "source": [
    "first_price = Honda.Price.iloc[0]\n",
    "first_price"
   ]
  },
  {
   "cell_type": "code",
   "execution_count": 20,
   "metadata": {},
   "outputs": [
    {
     "data": {
      "text/plain": [
       "Date\n",
       "2001-01-01    100.000000\n",
       "2001-01-08    106.060606\n",
       "2001-01-26    106.060606\n",
       "2001-02-08    103.030303\n",
       "2001-02-20    103.030303\n",
       "Name: Price, dtype: float64"
      ]
     },
     "execution_count": 20,
     "metadata": {},
     "output_type": "execute_result"
    }
   ],
   "source": [
    "normalized = Honda.Price.div(first_price).mul(100)\n",
    "normalized.head()"
   ]
  },
  {
   "cell_type": "code",
   "execution_count": 21,
   "metadata": {},
   "outputs": [
    {
     "data": {
      "text/plain": [
       "<Axes: title={'center': 'Atlas Honda Normalized Series'}, xlabel='Date'>"
      ]
     },
     "execution_count": 21,
     "metadata": {},
     "output_type": "execute_result"
    },
    {
     "data": {
      "image/png": "[encoded data removed]",
      "text/plain": [
       "<Figure size 640x480 with 1 Axes>"
      ]
     },
     "metadata": {},
     "output_type": "display_data"
    }
   ],
   "source": [
    "normalized.plot(title='Atlas Honda Normalized Series')"
   ]
  },
  {
   "cell_type": "markdown",
   "metadata": {},
   "source": [
    "#### Creating a new dataframe containing price of 3 companies"
   ]
  },
  {
   "cell_type": "code",
   "execution_count": 39,
   "metadata": {},
   "outputs": [
    {
     "data": {
      "text/plain": [
       "(5279, 5)"
      ]
     },
     "execution_count": 39,
     "metadata": {},
     "output_type": "execute_result"
    }
   ],
   "source": [
    "#some more stocks\n",
    "Indus = pd.read_csv('../Indus Motor Company Limited.csv',parse_dates=['Date'], index_col='Date')\n",
    "Dewan = pd.read_csv('../Dewan Farooque Motors Limited.csv', parse_dates=['Date'], index_col='Date')\n",
    "Indus.Close.tail()\n",
    "Indus.shape"
   ]
  },
  {
   "cell_type": "code",
   "execution_count": 49,
   "metadata": {},
   "outputs": [
    {
     "data": {
      "text/html": [
       "<div>\n",
       "<style scoped>\n",
       "    .dataframe tbody tr th:only-of-type {\n",
       "        vertical-align: middle;\n",
       "    }\n",
       "\n",
       "    .dataframe tbody tr th {\n",
       "        vertical-align: top;\n",
       "    }\n",
       "\n",
       "    .dataframe thead th {\n",
       "        text-align: right;\n",
       "    }\n",
       "</style>\n",
       "<table border=\"1\" class=\"dataframe\">\n",
       "  <thead>\n",
       "    <tr style=\"text-align: right;\">\n",
       "      <th></th>\n",
       "      <th>Open</th>\n",
       "      <th>High</th>\n",
       "      <th>Low</th>\n",
       "      <th>Close</th>\n",
       "      <th>Volume</th>\n",
       "    </tr>\n",
       "    <tr>\n",
       "      <th>Date</th>\n",
       "      <th></th>\n",
       "      <th></th>\n",
       "      <th></th>\n",
       "      <th></th>\n",
       "      <th></th>\n",
       "    </tr>\n",
       "  </thead>\n",
       "  <tbody>\n",
       "    <tr>\n",
       "      <th>2001-01-01</th>\n",
       "      <td>6.90</td>\n",
       "      <td>7.50</td>\n",
       "      <td>6.75</td>\n",
       "      <td>7.35</td>\n",
       "      <td>201500</td>\n",
       "    </tr>\n",
       "    <tr>\n",
       "      <th>2001-01-02</th>\n",
       "      <td>7.35</td>\n",
       "      <td>8.00</td>\n",
       "      <td>7.70</td>\n",
       "      <td>7.70</td>\n",
       "      <td>157000</td>\n",
       "    </tr>\n",
       "    <tr>\n",
       "      <th>2001-01-03</th>\n",
       "      <td>7.70</td>\n",
       "      <td>7.75</td>\n",
       "      <td>7.40</td>\n",
       "      <td>7.60</td>\n",
       "      <td>31500</td>\n",
       "    </tr>\n",
       "    <tr>\n",
       "      <th>2001-01-04</th>\n",
       "      <td>7.60</td>\n",
       "      <td>7.65</td>\n",
       "      <td>7.25</td>\n",
       "      <td>7.35</td>\n",
       "      <td>82500</td>\n",
       "    </tr>\n",
       "    <tr>\n",
       "      <th>2001-01-05</th>\n",
       "      <td>7.35</td>\n",
       "      <td>7.60</td>\n",
       "      <td>7.30</td>\n",
       "      <td>7.60</td>\n",
       "      <td>56000</td>\n",
       "    </tr>\n",
       "  </tbody>\n",
       "</table>\n",
       "</div>"
      ],
      "text/plain": [
       "            Open  High   Low  Close  Volume\n",
       "Date                                       \n",
       "2001-01-01  6.90  7.50  6.75   7.35  201500\n",
       "2001-01-02  7.35  8.00  7.70   7.70  157000\n",
       "2001-01-03  7.70  7.75  7.40   7.60   31500\n",
       "2001-01-04  7.60  7.65  7.25   7.35   82500\n",
       "2001-01-05  7.35  7.60  7.30   7.60   56000"
      ]
     },
     "execution_count": 49,
     "metadata": {},
     "output_type": "execute_result"
    }
   ],
   "source": [
    "Dewan.Close.tail()\n",
    "Dewan.shape\n",
    "Dewan.head()"
   ]
  },
  {
   "cell_type": "code",
   "execution_count": 43,
   "metadata": {},
   "outputs": [
    {
     "data": {
      "text/plain": [
       "(4477, 5)"
      ]
     },
     "execution_count": 43,
     "metadata": {},
     "output_type": "execute_result"
    }
   ],
   "source": [
    "Honda.Price.tail()\n",
    "df.shape"
   ]
  },
  {
   "cell_type": "markdown",
   "metadata": {},
   "source": [
    "#### Note that the dataset have different no. of rows or values\n",
    "#### let's fix this"
   ]
  },
  {
   "cell_type": "code",
   "execution_count": 88,
   "metadata": {},
   "outputs": [
    {
     "name": "stdout",
     "output_type": "stream",
     "text": [
      "<class 'pandas.core.frame.DataFrame'>\n",
      "DatetimeIndex: 5362 entries, 2001-01-01 to 2022-11-14\n",
      "Data columns (total 3 columns):\n",
      " #   Column  Non-Null Count  Dtype  \n",
      "---  ------  --------------  -----  \n",
      " 0   Honda   5362 non-null   float64\n",
      " 1   Indus   5362 non-null   float64\n",
      " 2   Dewan   5362 non-null   float64\n",
      "dtypes: float64(3)\n",
      "memory usage: 167.6 KB\n"
     ]
    }
   ],
   "source": [
    "#merging data into one by common key which is date using outer to keep all available dates\n",
    "prices = Honda.merge(Indus.Close, on='Date', how='outer').merge(Dewan.Close, on='Date', how='outer')\n",
    "prices = prices.sort_values(by='Date')\n",
    "\n",
    "#NOW our prices dataFrame contains null values so fill those\n",
    "# prices.fillna(method='ffill', inplace=True)\n",
    "prices.ffill(inplace=True)\n",
    "\n",
    "#rename columns with company's name\n",
    "prices = prices.rename(columns={'Price':'Honda', 'Close_x':'Indus', 'Close_y':'Dewan'})\n",
    "prices.tail()\n",
    "prices.info()\n"
   ]
  },
  {
   "cell_type": "markdown",
   "metadata": {},
   "source": [
    "##### \"normalizing\""
   ]
  },
  {
   "cell_type": "code",
   "execution_count": 61,
   "metadata": {},
   "outputs": [
    {
     "data": {
      "text/plain": [
       "<Axes: xlabel='Date'>"
      ]
     },
     "execution_count": 61,
     "metadata": {},
     "output_type": "execute_result"
    },
    {
     "data": {
      "image/png": "[encoded data removed]",
      "text/plain": [
       "<Figure size 640x480 with 1 Axes>"
      ]
     },
     "metadata": {},
     "output_type": "display_data"
    }
   ],
   "source": [
    "normalized_prices = prices.div(prices.iloc[0])\n",
    "normalized_prices.plot()"
   ]
  },
  {
   "cell_type": "code",
   "execution_count": 89,
   "metadata": {},
   "outputs": [
    {
     "data": {
      "text/html": [
       "<div>\n",
       "<style scoped>\n",
       "    .dataframe tbody tr th:only-of-type {\n",
       "        vertical-align: middle;\n",
       "    }\n",
       "\n",
       "    .dataframe tbody tr th {\n",
       "        vertical-align: top;\n",
       "    }\n",
       "\n",
       "    .dataframe thead th {\n",
       "        text-align: right;\n",
       "    }\n",
       "</style>\n",
       "<table border=\"1\" class=\"dataframe\">\n",
       "  <thead>\n",
       "    <tr style=\"text-align: right;\">\n",
       "      <th></th>\n",
       "      <th>Honda</th>\n",
       "      <th>Indus</th>\n",
       "      <th>Dewan</th>\n",
       "      <th>KSE-100</th>\n",
       "    </tr>\n",
       "    <tr>\n",
       "      <th>Date</th>\n",
       "      <th></th>\n",
       "      <th></th>\n",
       "      <th></th>\n",
       "      <th></th>\n",
       "    </tr>\n",
       "  </thead>\n",
       "  <tbody>\n",
       "    <tr>\n",
       "      <th>2001-01-01</th>\n",
       "      <td>16.50</td>\n",
       "      <td>10.65</td>\n",
       "      <td>7.35</td>\n",
       "      <td>1,517.95</td>\n",
       "    </tr>\n",
       "    <tr>\n",
       "      <th>2001-01-02</th>\n",
       "      <td>16.50</td>\n",
       "      <td>11.00</td>\n",
       "      <td>7.70</td>\n",
       "      <td>1,522.16</td>\n",
       "    </tr>\n",
       "    <tr>\n",
       "      <th>2001-01-03</th>\n",
       "      <td>16.50</td>\n",
       "      <td>11.20</td>\n",
       "      <td>7.60</td>\n",
       "      <td>1,550.42</td>\n",
       "    </tr>\n",
       "    <tr>\n",
       "      <th>2001-01-04</th>\n",
       "      <td>16.50</td>\n",
       "      <td>10.90</td>\n",
       "      <td>7.35</td>\n",
       "      <td>1,550.04</td>\n",
       "    </tr>\n",
       "    <tr>\n",
       "      <th>2001-01-05</th>\n",
       "      <td>16.50</td>\n",
       "      <td>10.75</td>\n",
       "      <td>7.60</td>\n",
       "      <td>1,545.90</td>\n",
       "    </tr>\n",
       "    <tr>\n",
       "      <th>...</th>\n",
       "      <td>...</td>\n",
       "      <td>...</td>\n",
       "      <td>...</td>\n",
       "      <td>...</td>\n",
       "    </tr>\n",
       "    <tr>\n",
       "      <th>2022-11-07</th>\n",
       "      <td>329.00</td>\n",
       "      <td>922.01</td>\n",
       "      <td>11.41</td>\n",
       "      <td>NaN</td>\n",
       "    </tr>\n",
       "    <tr>\n",
       "      <th>2022-11-08</th>\n",
       "      <td>338.99</td>\n",
       "      <td>929.16</td>\n",
       "      <td>10.55</td>\n",
       "      <td>NaN</td>\n",
       "    </tr>\n",
       "    <tr>\n",
       "      <th>2022-11-10</th>\n",
       "      <td>338.99</td>\n",
       "      <td>928.86</td>\n",
       "      <td>9.74</td>\n",
       "      <td>NaN</td>\n",
       "    </tr>\n",
       "    <tr>\n",
       "      <th>2022-11-11</th>\n",
       "      <td>338.99</td>\n",
       "      <td>929.93</td>\n",
       "      <td>10.57</td>\n",
       "      <td>NaN</td>\n",
       "    </tr>\n",
       "    <tr>\n",
       "      <th>2022-11-14</th>\n",
       "      <td>338.99</td>\n",
       "      <td>922.21</td>\n",
       "      <td>10.57</td>\n",
       "      <td>NaN</td>\n",
       "    </tr>\n",
       "  </tbody>\n",
       "</table>\n",
       "<p>5409 rows × 4 columns</p>\n",
       "</div>"
      ],
      "text/plain": [
       "             Honda   Indus  Dewan   KSE-100\n",
       "Date                                       \n",
       "2001-01-01   16.50   10.65   7.35  1,517.95\n",
       "2001-01-02   16.50   11.00   7.70  1,522.16\n",
       "2001-01-03   16.50   11.20   7.60  1,550.42\n",
       "2001-01-04   16.50   10.90   7.35  1,550.04\n",
       "2001-01-05   16.50   10.75   7.60  1,545.90\n",
       "...            ...     ...    ...       ...\n",
       "2022-11-07  329.00  922.01  11.41       NaN\n",
       "2022-11-08  338.99  929.16  10.55       NaN\n",
       "2022-11-10  338.99  928.86   9.74       NaN\n",
       "2022-11-11  338.99  929.93  10.57       NaN\n",
       "2022-11-14  338.99  922.21  10.57       NaN\n",
       "\n",
       "[5409 rows x 4 columns]"
      ]
     },
     "execution_count": 89,
     "metadata": {},
     "output_type": "execute_result"
    }
   ],
   "source": [
    "kse = pd.read_csv('../Karachi 100 Historical Data.csv', parse_dates = ['Date'],index_col='Date')\n",
    "prices = prices.merge(kse.Price, on='Date', how = 'outer')\n",
    "prices = prices.rename(columns={'Price':'KSE-100'})\n",
    "prices"
   ]
  },
  {
   "cell_type": "code",
   "execution_count": 90,
   "metadata": {},
   "outputs": [
    {
     "data": {
      "text/html": [
       "<div>\n",
       "<style scoped>\n",
       "    .dataframe tbody tr th:only-of-type {\n",
       "        vertical-align: middle;\n",
       "    }\n",
       "\n",
       "    .dataframe tbody tr th {\n",
       "        vertical-align: top;\n",
       "    }\n",
       "\n",
       "    .dataframe thead th {\n",
       "        text-align: right;\n",
       "    }\n",
       "</style>\n",
       "<table border=\"1\" class=\"dataframe\">\n",
       "  <thead>\n",
       "    <tr style=\"text-align: right;\">\n",
       "      <th></th>\n",
       "      <th>Honda</th>\n",
       "      <th>Indus</th>\n",
       "      <th>Dewan</th>\n",
       "      <th>KSE-100</th>\n",
       "    </tr>\n",
       "    <tr>\n",
       "      <th>Date</th>\n",
       "      <th></th>\n",
       "      <th></th>\n",
       "      <th></th>\n",
       "      <th></th>\n",
       "    </tr>\n",
       "  </thead>\n",
       "  <tbody>\n",
       "    <tr>\n",
       "      <th>2001-01-01</th>\n",
       "      <td>16.50</td>\n",
       "      <td>10.65</td>\n",
       "      <td>7.35</td>\n",
       "      <td>1,517.95</td>\n",
       "    </tr>\n",
       "    <tr>\n",
       "      <th>2001-01-02</th>\n",
       "      <td>16.50</td>\n",
       "      <td>11.00</td>\n",
       "      <td>7.70</td>\n",
       "      <td>1,522.16</td>\n",
       "    </tr>\n",
       "    <tr>\n",
       "      <th>2001-01-03</th>\n",
       "      <td>16.50</td>\n",
       "      <td>11.20</td>\n",
       "      <td>7.60</td>\n",
       "      <td>1,550.42</td>\n",
       "    </tr>\n",
       "    <tr>\n",
       "      <th>2001-01-04</th>\n",
       "      <td>16.50</td>\n",
       "      <td>10.90</td>\n",
       "      <td>7.35</td>\n",
       "      <td>1,550.04</td>\n",
       "    </tr>\n",
       "    <tr>\n",
       "      <th>2001-01-05</th>\n",
       "      <td>16.50</td>\n",
       "      <td>10.75</td>\n",
       "      <td>7.60</td>\n",
       "      <td>1,545.90</td>\n",
       "    </tr>\n",
       "    <tr>\n",
       "      <th>...</th>\n",
       "      <td>...</td>\n",
       "      <td>...</td>\n",
       "      <td>...</td>\n",
       "      <td>...</td>\n",
       "    </tr>\n",
       "    <tr>\n",
       "      <th>2021-03-18</th>\n",
       "      <td>449.99</td>\n",
       "      <td>1100.18</td>\n",
       "      <td>5.79</td>\n",
       "      <td>44,724.09</td>\n",
       "    </tr>\n",
       "    <tr>\n",
       "      <th>2021-03-19</th>\n",
       "      <td>449.99</td>\n",
       "      <td>1037.28</td>\n",
       "      <td>5.77</td>\n",
       "      <td>44,901.31</td>\n",
       "    </tr>\n",
       "    <tr>\n",
       "      <th>2021-03-22</th>\n",
       "      <td>467.97</td>\n",
       "      <td>1067.46</td>\n",
       "      <td>5.81</td>\n",
       "      <td>45,407.33</td>\n",
       "    </tr>\n",
       "    <tr>\n",
       "      <th>2021-03-24</th>\n",
       "      <td>486.20</td>\n",
       "      <td>1073.14</td>\n",
       "      <td>5.83</td>\n",
       "      <td>45,544.19</td>\n",
       "    </tr>\n",
       "    <tr>\n",
       "      <th>2021-03-25</th>\n",
       "      <td>486.20</td>\n",
       "      <td>1100.81</td>\n",
       "      <td>5.82</td>\n",
       "      <td>45,726.16</td>\n",
       "    </tr>\n",
       "  </tbody>\n",
       "</table>\n",
       "<p>4956 rows × 4 columns</p>\n",
       "</div>"
      ],
      "text/plain": [
       "             Honda    Indus  Dewan    KSE-100\n",
       "Date                                         \n",
       "2001-01-01   16.50    10.65   7.35   1,517.95\n",
       "2001-01-02   16.50    11.00   7.70   1,522.16\n",
       "2001-01-03   16.50    11.20   7.60   1,550.42\n",
       "2001-01-04   16.50    10.90   7.35   1,550.04\n",
       "2001-01-05   16.50    10.75   7.60   1,545.90\n",
       "...            ...      ...    ...        ...\n",
       "2021-03-18  449.99  1100.18   5.79  44,724.09\n",
       "2021-03-19  449.99  1037.28   5.77  44,901.31\n",
       "2021-03-22  467.97  1067.46   5.81  45,407.33\n",
       "2021-03-24  486.20  1073.14   5.83  45,544.19\n",
       "2021-03-25  486.20  1100.81   5.82  45,726.16\n",
       "\n",
       "[4956 rows x 4 columns]"
      ]
     },
     "execution_count": 90,
     "metadata": {},
     "output_type": "execute_result"
    }
   ],
   "source": [
    "prices.dropna(inplace=True)\n",
    "prices"
   ]
  },
  {
   "cell_type": "code",
   "execution_count": null,
   "metadata": {},
   "outputs": [
    {
     "name": "stdout",
     "output_type": "stream",
     "text": [
      "<class 'pandas.core.frame.DataFrame'>\n",
      "DatetimeIndex: 4956 entries, 2001-01-01 to 2021-03-25\n",
      "Data columns (total 4 columns):\n",
      " #   Column   Non-Null Count  Dtype  \n",
      "---  ------   --------------  -----  \n",
      " 0   Honda    4956 non-null   float64\n",
      " 1   Indus    4956 non-null   float64\n",
      " 2   Dewan    4956 non-null   float64\n",
      " 3   KSE-100  4956 non-null   float64\n",
      "dtypes: float64(4)\n",
      "memory usage: 193.6 KB\n"
     ]
    }
   ],
   "source": [
    "\n",
    "prices['KSE-100'] = prices['KSE-100'].str.replace(',', '').astype(float)\n",
    "prices.info()"
   ]
  },
  {
   "cell_type": "code",
   "execution_count": 103,
   "metadata": {},
   "outputs": [
    {
     "data": {
      "text/plain": [
       "<Axes: xlabel='Date'>"
      ]
     },
     "execution_count": 103,
     "metadata": {},
     "output_type": "execute_result"
    },
    {
     "data": {
      "image/png": "[encoded data removed]",
      "text/plain": [
       "<Figure size 640x480 with 1 Axes>"
      ]
     },
     "metadata": {},
     "output_type": "display_data"
    }
   ],
   "source": [
    "normalized_prices = prices.div(prices.iloc[0]).mul(100)\n",
    "normalized_prices.plot()"
   ]
  },
  {
   "cell_type": "code",
   "execution_count": 104,
   "metadata": {},
   "outputs": [
    {
     "data": {
      "text/plain": [
       "<Axes: xlabel='Date'>"
      ]
     },
     "execution_count": 104,
     "metadata": {},
     "output_type": "execute_result"
    },
    {
     "data": {
      "image/png": "[encoded data removed]",
      "text/plain": [
       "<Figure size 640x480 with 1 Axes>"
      ]
     },
     "metadata": {},
     "output_type": "display_data"
    }
   ],
   "source": [
    "diff = normalized_prices[['Honda', 'Indus','Dewan']].sub(normalized_prices['KSE-100'],axis=0)\n",
    "diff.plot()"
   ]
  }
 ],
 "metadata": {
  "kernelspec": {
   "display_name": "Python 3",
   "language": "python",
   "name": "python3"
  },
  "language_info": {
   "codemirror_mode": {
    "name": "ipython",
    "version": 3
   },
   "file_extension": ".py",
   "mimetype": "text/x-python",
   "name": "python",
   "nbconvert_exporter": "python",
   "pygments_lexer": "ipython3",
   "version": "3.13.1"
  }
 },
 "nbformat": 4,
 "nbformat_minor": 2
}
