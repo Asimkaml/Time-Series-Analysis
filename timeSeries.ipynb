{
 "cells": [
  {
   "cell_type": "markdown",
   "metadata": {},
   "source": [
    "#### Learning Time series "
   ]
  },
  {
   "cell_type": "code",
   "execution_count": 1,
   "metadata": {},
   "outputs": [],
   "source": [
    "import numpy as np\n",
    "import pandas as pd\n",
    "from datetime import datetime #for manually creating dates\n",
    "import matplotlib.pyplot as plt\n"
   ]
  },
  {
   "cell_type": "code",
   "execution_count": null,
   "metadata": {},
   "outputs": [],
   "source": [
    "timestamp = pd.Timestamp(datetime(2023, 1,1))\n",
    "timestamp == pd.Timestamp('2023-1-1')\n",
    "timestamp == pd.Timestamp('2023-01-01')\n",
    "# pd.Timestamp('2023-1-1')\n",
    "\n",
    "timestamp.dayofweek\n",
    "timestamp.dayofyear\n",
    "timestamp.day_name()\n",
    "\n",
    "period = pd.Period('2018-1')\n",
    "period"
   ]
  },
  {
   "cell_type": "markdown",
   "metadata": {},
   "source": [
    "#### creating a time series"
   ]
  },
  {
   "cell_type": "code",
   "execution_count": null,
   "metadata": {},
   "outputs": [],
   "source": [
    "index = pd.date_range(start='2020-3', periods=12, freq='D')\n",
    "index\n",
    "index[0]\n",
    "index.to_period()# default freq is D\n",
    "index.to_period(freq='M')"
   ]
  },
  {
   "cell_type": "code",
   "execution_count": null,
   "metadata": {},
   "outputs": [],
   "source": [
    "index"
   ]
  },
  {
   "cell_type": "code",
   "execution_count": null,
   "metadata": {},
   "outputs": [],
   "source": [
    "data = np.random.random(size = (12,2))\n",
    "pd.DataFrame(data = data, index=index)\n"
   ]
  },
  {
   "cell_type": "code",
   "execution_count": null,
   "metadata": {},
   "outputs": [],
   "source": [
    "df = pd.read_csv(\"Atlas Honda Limited.csv\")\n",
    "df.info()"
   ]
  },
  {
   "cell_type": "code",
   "execution_count": null,
   "metadata": {},
   "outputs": [],
   "source": [
    "df.Date = pd.to_datetime(df.Date)\n",
    "df.info()"
   ]
  },
  {
   "cell_type": "code",
   "execution_count": null,
   "metadata": {},
   "outputs": [],
   "source": [
    "df.head()"
   ]
  },
  {
   "cell_type": "code",
   "execution_count": null,
   "metadata": {},
   "outputs": [],
   "source": [
    "df.index = df.Date\n",
    "# df.set_index(df.Date, inplace = True)\n",
    "df.head()"
   ]
  },
  {
   "cell_type": "code",
   "execution_count": null,
   "metadata": {},
   "outputs": [],
   "source": [
    "df.Close.plot(title=\"Atlas Honda Closing Price\")\n",
    "# plt.tight_layout\n",
    "plt.show()"
   ]
  },
  {
   "cell_type": "code",
   "execution_count": 11,
   "metadata": {},
   "outputs": [],
   "source": [
    "df.drop('Date', axis=1, inplace=True)"
   ]
  },
  {
   "cell_type": "code",
   "execution_count": null,
   "metadata": {},
   "outputs": [],
   "source": [
    "df.loc['2001']\n",
    "# df"
   ]
  },
  {
   "cell_type": "code",
   "execution_count": null,
   "metadata": {},
   "outputs": [],
   "source": [
    "df.asfreq('D').info()"
   ]
  },
  {
   "cell_type": "code",
   "execution_count": null,
   "metadata": {},
   "outputs": [],
   "source": [
    "df.isnull().sum()\n",
    "\n",
    "df.tail()"
   ]
  },
  {
   "cell_type": "markdown",
   "metadata": {},
   "source": [
    "#### imp: use copy to generate a new reference\n"
   ]
  },
  {
   "cell_type": "code",
   "execution_count": null,
   "metadata": {},
   "outputs": [],
   "source": [
    "df2 = df.copy()\n",
    "# df2.info()\n",
    "# df2.head()\n",
    "\n",
    "df2.loc['2022-11-08':] = None\n",
    "df2.loc['2022-11-08':]\n",
    "df2.isnull().sum()\n",
    "# df2.loc['2022-11-10']\n",
    "# df2.loc['2022-11-07']"
   ]
  },
  {
   "cell_type": "code",
   "execution_count": null,
   "metadata": {},
   "outputs": [],
   "source": [
    "#explore concat function\n",
    "df2\n"
   ]
  },
  {
   "cell_type": "code",
   "execution_count": null,
   "metadata": {},
   "outputs": [],
   "source": [
    "# df2.notnull()\n",
    "df2.dropna(axis=1) # drop columns with null values\n",
    "df2.dropna(how='all', axis=1) #drop columns if all values are null\n",
    "df2.dropna(thresh=5) #atleast 2 valid values\n"
   ]
  },
  {
   "cell_type": "markdown",
   "metadata": {},
   "source": [
    "##### instead of dropping null values , let's fill them\n"
   ]
  },
  {
   "cell_type": "code",
   "execution_count": null,
   "metadata": {},
   "outputs": [],
   "source": [
    "df2 #has null values\n",
    "df2.fillna(df2.mean())\n",
    "df2.fillna(method='ffill')#fill null value from the previous value(in forward)\n",
    "df2.fillna(method='bfill')#fill null value from the proceding value(in backward)\n",
    "#OR\n",
    "df2.bfill()\n",
    "df2.ffill()"
   ]
  },
  {
   "cell_type": "markdown",
   "metadata": {},
   "source": [
    "##### dropna drops if a row contains any NaN value( 1 or more)"
   ]
  },
  {
   "cell_type": "code",
   "execution_count": null,
   "metadata": {},
   "outputs": [],
   "source": [
    "df2.loc['2022-11-07', 'Open']  = np.nan\n",
    "missingVal =  len(df2)- len(df2.dropna()) \n",
    "missingVal\n",
    "df2.tail()"
   ]
  },
  {
   "cell_type": "code",
   "execution_count": null,
   "metadata": {},
   "outputs": [],
   "source": [
    "df2['Close'].plot()"
   ]
  },
  {
   "cell_type": "code",
   "execution_count": null,
   "metadata": {},
   "outputs": [],
   "source": [
    "df2['Close'].duplicated()"
   ]
  },
  {
   "cell_type": "code",
   "execution_count": null,
   "metadata": {},
   "outputs": [],
   "source": [
    "team = pd.Series([\n",
    "    'Bowler',\n",
    "    'Batter',\n",
    "    'Batter',\n",
    "    'Allrounder',\n",
    "    'Bowler',\n",
    "    'Bowler'\n",
    "],index=[\n",
    "    'Saad', \n",
    "    'Ali',\n",
    "    'Abbas',\n",
    "    'Umer',\n",
    "    'Ahmed',\n",
    "    'Asim'\n",
    "])\n",
    "team"
   ]
  },
  {
   "cell_type": "code",
   "execution_count": null,
   "metadata": {},
   "outputs": [],
   "source": [
    "team[~team.duplicated()]\n",
    "team.duplicated()"
   ]
  }
 ],
 "metadata": {
  "kernelspec": {
   "display_name": "Python 3",
   "language": "python",
   "name": "python3"
  },
  "language_info": {
   "codemirror_mode": {
    "name": "ipython",
    "version": 3
   },
   "file_extension": ".py",
   "mimetype": "text/x-python",
   "name": "python",
   "nbconvert_exporter": "python",
   "pygments_lexer": "ipython3",
   "version": "3.13.1"
  }
 },
 "nbformat": 4,
 "nbformat_minor": 2
}
